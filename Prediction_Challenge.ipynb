{
 "cells": [
  {
   "cell_type": "code",
   "execution_count": 1,
   "metadata": {},
   "outputs": [],
   "source": [
    "import pandas as pd\n",
    "import numpy as np\n",
    "import math\n",
    "import utm"
   ]
  },
  {
   "cell_type": "code",
   "execution_count": 2,
   "metadata": {},
   "outputs": [],
   "source": [
    "df = pd.read_excel(\"Households_Data.xlsx\",sheet_name='Hogares')"
   ]
  },
  {
   "cell_type": "code",
   "execution_count": 3,
   "metadata": {},
   "outputs": [],
   "source": [
    "dictionary=pd.read_excel(\"Households_Data.xlsx\",sheet_name='Dictionary')"
   ]
  },
  {
   "cell_type": "markdown",
   "metadata": {},
   "source": [
    "## Categorical Data"
   ]
  },
  {
   "cell_type": "markdown",
   "metadata": {},
   "source": [
    "We would like to identify which columns are categorical data and which arecontinuous data, because data types are important in any machine learning algorithm."
   ]
  },
  {
   "cell_type": "code",
   "execution_count": 4,
   "metadata": {},
   "outputs": [
    {
     "data": {
      "text/html": [
       "<div>\n",
       "<style scoped>\n",
       "    .dataframe tbody tr th:only-of-type {\n",
       "        vertical-align: middle;\n",
       "    }\n",
       "\n",
       "    .dataframe tbody tr th {\n",
       "        vertical-align: top;\n",
       "    }\n",
       "\n",
       "    .dataframe thead th {\n",
       "        text-align: right;\n",
       "    }\n",
       "</style>\n",
       "<table border=\"1\" class=\"dataframe\">\n",
       "  <thead>\n",
       "    <tr style=\"text-align: right;\">\n",
       "      <th></th>\n",
       "      <th>Variable</th>\n",
       "      <th>Description</th>\n",
       "      <th>Used in Model?</th>\n",
       "    </tr>\n",
       "  </thead>\n",
       "  <tbody>\n",
       "    <tr>\n",
       "      <th>0</th>\n",
       "      <td>Hogar</td>\n",
       "      <td>ID of Household</td>\n",
       "      <td>NaN</td>\n",
       "    </tr>\n",
       "    <tr>\n",
       "      <th>1</th>\n",
       "      <td>EXCLUIR</td>\n",
       "      <td>Exclude from estimation</td>\n",
       "      <td>NaN</td>\n",
       "    </tr>\n",
       "    <tr>\n",
       "      <th>2</th>\n",
       "      <td>paraValidacion</td>\n",
       "      <td>sample for validation</td>\n",
       "      <td>NaN</td>\n",
       "    </tr>\n",
       "    <tr>\n",
       "      <th>3</th>\n",
       "      <td>Sector</td>\n",
       "      <td>Exogenous sector (7 sectors used for exogenous...</td>\n",
       "      <td>YES (Segmentation in Exogenous Zones Model)</td>\n",
       "    </tr>\n",
       "    <tr>\n",
       "      <th>4</th>\n",
       "      <td>DirCoordX</td>\n",
       "      <td>UTM coordinate X</td>\n",
       "      <td>NaN</td>\n",
       "    </tr>\n",
       "    <tr>\n",
       "      <th>5</th>\n",
       "      <td>DirCoordY</td>\n",
       "      <td>UTM coordinate Y</td>\n",
       "      <td>NaN</td>\n",
       "    </tr>\n",
       "    <tr>\n",
       "      <th>6</th>\n",
       "      <td>MontoArr</td>\n",
       "      <td>Monthly dwelling rent (Chilean Peso)</td>\n",
       "      <td>YES (Likelihood function)</td>\n",
       "    </tr>\n",
       "    <tr>\n",
       "      <th>7</th>\n",
       "      <td>IngresoHogar</td>\n",
       "      <td>Household income (Chilean Peso)</td>\n",
       "      <td>NaN</td>\n",
       "    </tr>\n",
       "    <tr>\n",
       "      <th>8</th>\n",
       "      <td>Factor</td>\n",
       "      <td>Expansion factor of household in survey</td>\n",
       "      <td>NaN</td>\n",
       "    </tr>\n",
       "    <tr>\n",
       "      <th>9</th>\n",
       "      <td>AnosEstudio</td>\n",
       "      <td>Years of formal Education of head of household</td>\n",
       "      <td>NaN</td>\n",
       "    </tr>\n",
       "    <tr>\n",
       "      <th>10</th>\n",
       "      <td>CLASE</td>\n",
       "      <td>1 : less than 12 years ; 2 : between 12 and 15...</td>\n",
       "      <td>YES (Likelihood function)</td>\n",
       "    </tr>\n",
       "    <tr>\n",
       "      <th>11</th>\n",
       "      <td>Sup_Prom_Constr_Hab_EOD</td>\n",
       "      <td>Average Built surface of residential units in ...</td>\n",
       "      <td>YES (DP function)</td>\n",
       "    </tr>\n",
       "    <tr>\n",
       "      <th>12</th>\n",
       "      <td>Calid_EOD_norm_inv</td>\n",
       "      <td>Average Construction Quality of residential un...</td>\n",
       "      <td>NaN</td>\n",
       "    </tr>\n",
       "    <tr>\n",
       "      <th>13</th>\n",
       "      <td>DensConstr_EOD</td>\n",
       "      <td>Built density in zone (built surface divided b...</td>\n",
       "      <td>YES (Segmentation function in Latent class mod...</td>\n",
       "    </tr>\n",
       "    <tr>\n",
       "      <th>14</th>\n",
       "      <td>Dist_est_Metro_MC_KM</td>\n",
       "      <td>Distance to nearest subway station (km)</td>\n",
       "      <td>YES (DP function)</td>\n",
       "    </tr>\n",
       "    <tr>\n",
       "      <th>15</th>\n",
       "      <td>Dist_salida_Autop_MC_KM</td>\n",
       "      <td>Distance to nearest highway exit (km)</td>\n",
       "      <td>YES (DP function)</td>\n",
       "    </tr>\n",
       "    <tr>\n",
       "      <th>16</th>\n",
       "      <td>Tiempo_Com_Stgo</td>\n",
       "      <td>travel time to CBD (min)</td>\n",
       "      <td>YES (DP function)</td>\n",
       "    </tr>\n",
       "    <tr>\n",
       "      <th>17</th>\n",
       "      <td>Ingreso_Promedio_Zona_MM</td>\n",
       "      <td>Average zonal income (Million Chilean Peso)</td>\n",
       "      <td>YES (Segmentation function in Latent class mod...</td>\n",
       "    </tr>\n",
       "    <tr>\n",
       "      <th>18</th>\n",
       "      <td>Acc_Comercio_tpte_pub</td>\n",
       "      <td>Accesibility to Commerce in transit</td>\n",
       "      <td>YES (DP function)</td>\n",
       "    </tr>\n",
       "    <tr>\n",
       "      <th>19</th>\n",
       "      <td>Acc_Educacion_tpte_pub</td>\n",
       "      <td>Accesibility to Education in transit</td>\n",
       "      <td>NaN</td>\n",
       "    </tr>\n",
       "    <tr>\n",
       "      <th>20</th>\n",
       "      <td>Acc_Habitacion_tpte_pub</td>\n",
       "      <td>Accesibility to habitational in transit</td>\n",
       "      <td>NaN</td>\n",
       "    </tr>\n",
       "    <tr>\n",
       "      <th>21</th>\n",
       "      <td>Acc_Industria_tpte_pub</td>\n",
       "      <td>Accesibility to Industry in transit</td>\n",
       "      <td>YES (DP function)</td>\n",
       "    </tr>\n",
       "    <tr>\n",
       "      <th>22</th>\n",
       "      <td>Acc_Servicios_tpte_pub</td>\n",
       "      <td>Accesibility to Services in transit</td>\n",
       "      <td>NaN</td>\n",
       "    </tr>\n",
       "    <tr>\n",
       "      <th>23</th>\n",
       "      <td>Acc_Comercio_auto</td>\n",
       "      <td>Accesibility to Commerce in car</td>\n",
       "      <td>NaN</td>\n",
       "    </tr>\n",
       "    <tr>\n",
       "      <th>24</th>\n",
       "      <td>Acc_Educacion_auto</td>\n",
       "      <td>Accesibility to Education in car</td>\n",
       "      <td>NaN</td>\n",
       "    </tr>\n",
       "    <tr>\n",
       "      <th>25</th>\n",
       "      <td>Acc_Habitacion_auto</td>\n",
       "      <td>Accesibility to habitational in car</td>\n",
       "      <td>NaN</td>\n",
       "    </tr>\n",
       "    <tr>\n",
       "      <th>26</th>\n",
       "      <td>Acc_Industria_auto</td>\n",
       "      <td>Accesibility to Industry in car</td>\n",
       "      <td>NaN</td>\n",
       "    </tr>\n",
       "    <tr>\n",
       "      <th>27</th>\n",
       "      <td>Acc_Servicios_auto</td>\n",
       "      <td>Accesibility to Services in car</td>\n",
       "      <td>NaN</td>\n",
       "    </tr>\n",
       "    <tr>\n",
       "      <th>28</th>\n",
       "      <td>CLUSTER7</td>\n",
       "      <td>Cluster clasification (7 clusters)</td>\n",
       "      <td>YES (Segmentation in 7 cluster model)</td>\n",
       "    </tr>\n",
       "    <tr>\n",
       "      <th>29</th>\n",
       "      <td>CLUSTER2</td>\n",
       "      <td>Cluster clasification (2 clusters)</td>\n",
       "      <td>YES (Segmentation in 2 cluster model)</td>\n",
       "    </tr>\n",
       "  </tbody>\n",
       "</table>\n",
       "</div>"
      ],
      "text/plain": [
       "                    Variable  \\\n",
       "0                      Hogar   \n",
       "1                    EXCLUIR   \n",
       "2             paraValidacion   \n",
       "3                     Sector   \n",
       "4                  DirCoordX   \n",
       "5                  DirCoordY   \n",
       "6                   MontoArr   \n",
       "7               IngresoHogar   \n",
       "8                     Factor   \n",
       "9                AnosEstudio   \n",
       "10                     CLASE   \n",
       "11   Sup_Prom_Constr_Hab_EOD   \n",
       "12        Calid_EOD_norm_inv   \n",
       "13            DensConstr_EOD   \n",
       "14      Dist_est_Metro_MC_KM   \n",
       "15   Dist_salida_Autop_MC_KM   \n",
       "16           Tiempo_Com_Stgo   \n",
       "17  Ingreso_Promedio_Zona_MM   \n",
       "18     Acc_Comercio_tpte_pub   \n",
       "19    Acc_Educacion_tpte_pub   \n",
       "20   Acc_Habitacion_tpte_pub   \n",
       "21    Acc_Industria_tpte_pub   \n",
       "22    Acc_Servicios_tpte_pub   \n",
       "23         Acc_Comercio_auto   \n",
       "24        Acc_Educacion_auto   \n",
       "25       Acc_Habitacion_auto   \n",
       "26        Acc_Industria_auto   \n",
       "27        Acc_Servicios_auto   \n",
       "28                  CLUSTER7   \n",
       "29                  CLUSTER2   \n",
       "\n",
       "                                          Description  \\\n",
       "0                                     ID of Household   \n",
       "1                             Exclude from estimation   \n",
       "2                               sample for validation   \n",
       "3   Exogenous sector (7 sectors used for exogenous...   \n",
       "4                                    UTM coordinate X   \n",
       "5                                    UTM coordinate Y   \n",
       "6                Monthly dwelling rent (Chilean Peso)   \n",
       "7                     Household income (Chilean Peso)   \n",
       "8             Expansion factor of household in survey   \n",
       "9      Years of formal Education of head of household   \n",
       "10  1 : less than 12 years ; 2 : between 12 and 15...   \n",
       "11  Average Built surface of residential units in ...   \n",
       "12  Average Construction Quality of residential un...   \n",
       "13  Built density in zone (built surface divided b...   \n",
       "14            Distance to nearest subway station (km)   \n",
       "15              Distance to nearest highway exit (km)   \n",
       "16                           travel time to CBD (min)   \n",
       "17        Average zonal income (Million Chilean Peso)   \n",
       "18                Accesibility to Commerce in transit   \n",
       "19               Accesibility to Education in transit   \n",
       "20            Accesibility to habitational in transit   \n",
       "21                Accesibility to Industry in transit   \n",
       "22                Accesibility to Services in transit   \n",
       "23                    Accesibility to Commerce in car   \n",
       "24                   Accesibility to Education in car   \n",
       "25                Accesibility to habitational in car   \n",
       "26                    Accesibility to Industry in car   \n",
       "27                    Accesibility to Services in car   \n",
       "28                 Cluster clasification (7 clusters)   \n",
       "29                 Cluster clasification (2 clusters)   \n",
       "\n",
       "                                       Used in Model?  \n",
       "0                                                 NaN  \n",
       "1                                                 NaN  \n",
       "2                                                 NaN  \n",
       "3         YES (Segmentation in Exogenous Zones Model)  \n",
       "4                                                 NaN  \n",
       "5                                                 NaN  \n",
       "6                           YES (Likelihood function)  \n",
       "7                                                 NaN  \n",
       "8                                                 NaN  \n",
       "9                                                 NaN  \n",
       "10                          YES (Likelihood function)  \n",
       "11                                  YES (DP function)  \n",
       "12                                                NaN  \n",
       "13  YES (Segmentation function in Latent class mod...  \n",
       "14                                  YES (DP function)  \n",
       "15                                  YES (DP function)  \n",
       "16                                  YES (DP function)  \n",
       "17  YES (Segmentation function in Latent class mod...  \n",
       "18                                  YES (DP function)  \n",
       "19                                                NaN  \n",
       "20                                                NaN  \n",
       "21                                  YES (DP function)  \n",
       "22                                                NaN  \n",
       "23                                                NaN  \n",
       "24                                                NaN  \n",
       "25                                                NaN  \n",
       "26                                                NaN  \n",
       "27                                                NaN  \n",
       "28              YES (Segmentation in 7 cluster model)  \n",
       "29              YES (Segmentation in 2 cluster model)  "
      ]
     },
     "execution_count": 4,
     "metadata": {},
     "output_type": "execute_result"
    }
   ],
   "source": [
    "dictionary"
   ]
  },
  {
   "cell_type": "markdown",
   "metadata": {},
   "source": [
    "From the description column, we would make an informed guess about which columns are categorical and which are continuous. \n",
    "\n",
    "Our guess is {Hogar, EXCLUIR, paraValidacion, Sector, CLASE, CLUSTER7, CLUSTER2} are categorical."
   ]
  },
  {
   "cell_type": "code",
   "execution_count": 5,
   "metadata": {},
   "outputs": [],
   "source": [
    "categorical_1=['Hogar', 'EXCLUIR', 'paraValidacion', \n",
    "               'Sector', 'CLASE', 'CLUSTER7', 'CLUSTER2']"
   ]
  },
  {
   "cell_type": "markdown",
   "metadata": {},
   "source": [
    "The number of unique values in a column would, in general (not always), indicates whether that column is of categorical data type or continuous data type. "
   ]
  },
  {
   "cell_type": "code",
   "execution_count": 6,
   "metadata": {},
   "outputs": [
    {
     "name": "stdout",
     "output_type": "stream",
     "text": [
      "Hogar has 18264 unique value\n",
      "EXCLUIR has 2 unique value\n",
      "paraValidacion has 2 unique value\n",
      "Sector has 7 unique value\n",
      "DirCoordX has 16940 unique value\n",
      "DirCoordY has 16930 unique value\n",
      "MontoArr has 4432 unique value\n",
      "IngresoHogar has 12905 unique value\n",
      "Factor has 6433 unique value\n",
      "AnosEstudio has 23 unique value\n",
      "CLASE has 4 unique value\n",
      "Sup_Prom_Constr_Hab_EOD has 452 unique value\n",
      "Calid_EOD_norm_inv has 7 unique value\n",
      "DensConstr_EOD has 421 unique value\n",
      "Dist_est_Metro_MC_KM has 16952 unique value\n",
      "Dist_salida_Autop_MC_KM has 16952 unique value\n",
      "Tiempo_Com_Stgo has 98 unique value\n",
      "Ingreso_Promedio_Zona_MM has 789 unique value\n",
      "Acc_Comercio_tpte_pub has 631 unique value\n",
      "Acc_Educacion_tpte_pub has 631 unique value\n",
      "Acc_Habitacion_tpte_pub has 631 unique value\n",
      "Acc_Industria_tpte_pub has 631 unique value\n",
      "Acc_Servicios_tpte_pub has 631 unique value\n",
      "Acc_Comercio_auto has 637 unique value\n",
      "Acc_Educacion_auto has 635 unique value\n",
      "Acc_Habitacion_auto has 637 unique value\n",
      "Acc_Industria_auto has 636 unique value\n",
      "Acc_Servicios_auto has 636 unique value\n",
      "CLUSTER7 has 7 unique value\n",
      "CLUSTER2 has 2 unique value\n"
     ]
    }
   ],
   "source": [
    "for c in df.columns:\n",
    "    print(c + \" has \" + str(len(df[c].unique().tolist())) + \" unique value\")"
   ]
  },
  {
   "cell_type": "markdown",
   "metadata": {},
   "source": [
    "From observing the number of unique values in each column, we think {EXCLUIR, paraValidacion, Sector, CLASE, Calid_EOD_norm_inv, CLUSTER7, CLUSTER2} are categorical."
   ]
  },
  {
   "cell_type": "code",
   "execution_count": 7,
   "metadata": {},
   "outputs": [],
   "source": [
    "categorical_2=['EXCLUIR', 'paraValidacion', 'Sector', 'CLASE', \n",
    "               'Calid_EOD_norm_inv', 'CLUSTER7', 'CLUSTER2']"
   ]
  },
  {
   "cell_type": "markdown",
   "metadata": {},
   "source": [
    "For columns appear in both categorical_1 and categorical_2 lists, we will take them as categorical data. For those only appear in one of the lists, we will take a closer look."
   ]
  },
  {
   "cell_type": "code",
   "execution_count": 8,
   "metadata": {},
   "outputs": [
    {
     "data": {
      "text/plain": [
       "{'Hogar'}"
      ]
     },
     "execution_count": 8,
     "metadata": {},
     "output_type": "execute_result"
    }
   ],
   "source": [
    "# in categorical_1 but not in categorical_2\n",
    "set(categorical_1)-set(categorical_2)"
   ]
  },
  {
   "cell_type": "markdown",
   "metadata": {},
   "source": [
    "Hogar is the housing ID which is by definition categorical but we will omit it because ID is just a serial number which does not affect analysis."
   ]
  },
  {
   "cell_type": "code",
   "execution_count": 9,
   "metadata": {},
   "outputs": [
    {
     "data": {
      "text/plain": [
       "{'Calid_EOD_norm_inv'}"
      ]
     },
     "execution_count": 9,
     "metadata": {},
     "output_type": "execute_result"
    }
   ],
   "source": [
    "# in categorical_2 but not in categorical_1\n",
    "set(categorical_2)-set(categorical_1)"
   ]
  },
  {
   "cell_type": "code",
   "execution_count": 10,
   "metadata": {},
   "outputs": [
    {
     "data": {
      "text/plain": [
       "[0.98, 1.0, 0.78, 0.93, 0.36, 0.55, 0.0]"
      ]
     },
     "execution_count": 10,
     "metadata": {},
     "output_type": "execute_result"
    }
   ],
   "source": [
    "df['Calid_EOD_norm_inv'].unique().tolist()"
   ]
  },
  {
   "cell_type": "markdown",
   "metadata": {},
   "source": [
    "It seems Calid_EOD_norm_inv is continuous. We will treat it as continuous."
   ]
  },
  {
   "cell_type": "code",
   "execution_count": 11,
   "metadata": {},
   "outputs": [],
   "source": [
    "categorical = set(categorical_1 + categorical_2)\n",
    "categorical -= {'Hogar','Calid_EOD_norm_inv'}"
   ]
  },
  {
   "cell_type": "code",
   "execution_count": 12,
   "metadata": {},
   "outputs": [
    {
     "data": {
      "text/plain": [
       "{'CLASE', 'CLUSTER2', 'CLUSTER7', 'EXCLUIR', 'Sector', 'paraValidacion'}"
      ]
     },
     "execution_count": 12,
     "metadata": {},
     "output_type": "execute_result"
    }
   ],
   "source": [
    "categorical"
   ]
  },
  {
   "cell_type": "markdown",
   "metadata": {},
   "source": [
    "## Feature Selection"
   ]
  },
  {
   "cell_type": "markdown",
   "metadata": {},
   "source": [
    "By observing variable description, we will remove certain columns which have limited contribution to the prediction task. We will remove:\n",
    "\n",
    "* EXCLUIR, because it seems to be used for an estimation which is not specified here, perhaps for other study purposes.\n",
    "* paraValidacion, becuase it seems to be used for validation for some other studies, having little relevance here."
   ]
  },
  {
   "cell_type": "code",
   "execution_count": 14,
   "metadata": {},
   "outputs": [],
   "source": [
    "df=df.drop(['EXCLUIR', 'paraValidacion'], axis=1)"
   ]
  },
  {
   "cell_type": "markdown",
   "metadata": {},
   "source": [
    "## Column Renaming"
   ]
  },
  {
   "cell_type": "markdown",
   "metadata": {},
   "source": [
    "The current column names are difficult to understand, so we rename them."
   ]
  },
  {
   "cell_type": "code",
   "execution_count": 16,
   "metadata": {},
   "outputs": [],
   "source": [
    "df=df.rename(columns={'Hogar':'ID', \n",
    "                   'Sector': 'exogenous_sector', \n",
    "                   'DirCoordX' : 'UTM_East',\n",
    "                   'DirCoordY' : 'UTM_North', \n",
    "                   'MontoArr' : 'monthly_rent',\n",
    "                   'IngresoHogar' : 'household_income', \n",
    "                   'Factor' : 'survey_factor',\n",
    "                   'AnosEstudio' : 'education_years', \n",
    "                   'CLASE' : 'type',\n",
    "                   'Sup_Prom_Constr_Hab_EOD': 'built_surface',\n",
    "                   'Calid_EOD_norm_inv' : 'construction_quality',\n",
    "                   'DensConstr_EOD' : 'build_density', \n",
    "                   'Dist_est_Metro_MC_KM' : 'subway_dis',\n",
    "                   'Dist_salida_Autop_MC_KM' : 'highway_dis', \n",
    "                   'Tiempo_Com_Stgo' : 'time_CBD',\n",
    "                   'Ingreso_Promedio_Zona_MM' : 'avg_zone_income',\n",
    "                   'Acc_Comercio_tpte_pub' : 'commerce_transit', \n",
    "                   'Acc_Educacion_tpte_pub' : 'eduction_transit',\n",
    "                   'Acc_Habitacion_tpte_pub' : 'habitational_transit', \n",
    "                   'Acc_Industria_tpte_pub' : 'industry_transit',\n",
    "                   'Acc_Servicios_tpte_pub' : 'service_transit',\n",
    "                   'Acc_Comercio_auto' : 'commerce_car',\n",
    "                   'Acc_Educacion_auto' : 'education_car',\n",
    "                   'Acc_Habitacion_auto' : 'education_car',\n",
    "                   'Acc_Habitacion_auto' : 'habitational_car',\n",
    "                   'Acc_Industria_auto' : 'industry_car',\n",
    "                   'Acc_Servicios_auto' : 'service_car',\n",
    "                   'CLUSTER7' : 'cluster_7',\n",
    "                   'CLUSTER2' : 'cluster_2'\n",
    "                  })"
   ]
  },
  {
   "cell_type": "markdown",
   "metadata": {},
   "source": [
    "Lastly, we need to update our categorical list."
   ]
  },
  {
   "cell_type": "code",
   "execution_count": 18,
   "metadata": {},
   "outputs": [
    {
     "name": "stdout",
     "output_type": "stream",
     "text": [
      "original : \n",
      "{'EXCLUIR', 'paraValidacion', 'CLUSTER7', 'CLASE', 'CLUSTER2', 'Sector'}\n",
      "updated : \n",
      "['type', 'cluster_2', 'cluster_7', 'exogenous_sector']\n"
     ]
    }
   ],
   "source": [
    "# update categorical list\n",
    "print(\"original : \")\n",
    "print(categorical)\n",
    "categorical = ['type', 'cluster_2', 'cluster_7', 'exogenous_sector']\n",
    "print(\"updated : \")\n",
    "print(categorical)"
   ]
  },
  {
   "cell_type": "markdown",
   "metadata": {},
   "source": [
    "## Cleaning"
   ]
  },
  {
   "cell_type": "markdown",
   "metadata": {},
   "source": [
    "avg_zone_income is in Million Chilean Peso. However, monthly_rent and household_income are in Chilean Peso. We would like to standardize into Chilean Peso."
   ]
  },
  {
   "cell_type": "code",
   "execution_count": 33,
   "metadata": {},
   "outputs": [],
   "source": [
    "df['avg_zone_income'] =  df['avg_zone_income'] * 1000000"
   ]
  },
  {
   "cell_type": "markdown",
   "metadata": {},
   "source": [
    "## Coordinate Data Utilization"
   ]
  },
  {
   "cell_type": "markdown",
   "metadata": {},
   "source": [
    "The coordinate data given in the data set is in UTM format. It has little help because it only pinpoint the geographical location of each point. We have to quantify it into some parameters such that it can be used as a feature into any machine learning algorithm.\n",
    "\n",
    "One way to achieve it is to get the distance between each point and the city center.\n",
    "\n",
    "In order to get the distance, we have to rely on google map API. However, google map API does not support UTM format. So we have to obtain corresponding latitude longitude information. Luckily, python has a package named utm (https://github.com/Turbo87/utm)."
   ]
  },
  {
   "cell_type": "markdown",
   "metadata": {},
   "source": [
    "### Convert UTM Format To Lat / Lon Format"
   ]
  },
  {
   "cell_type": "markdown",
   "metadata": {},
   "source": [
    "We define a function to convert UTM format to Lat/Lon format.\n",
    "\n",
    "Since the dataset does not contain zone and latitude band information for Santiage, we search online (https://www.gps-latitude-longitude.com/gps-coordinates-of-santiago-de-chile) and obtain zone to be 19 and latitude band to be 'H'."
   ]
  },
  {
   "cell_type": "code",
   "execution_count": 21,
   "metadata": {},
   "outputs": [],
   "source": [
    "def getLatLon(east, north):\n",
    "    return utm.to_latlon(east, north, 19, 'H')"
   ]
  },
  {
   "cell_type": "markdown",
   "metadata": {},
   "source": [
    "Again, we define a function to extract lat/lon information and add new columns to the dataset."
   ]
  },
  {
   "cell_type": "code",
   "execution_count": 23,
   "metadata": {},
   "outputs": [],
   "source": [
    "def LatLonColumns():\n",
    "    res=[]\n",
    "    east=df.UTM_East.tolist()\n",
    "    north=df.UTM_North.tolist()\n",
    "    for i in range(len(east)):\n",
    "        res.append(getLatLon(east[i],north[i]))\n",
    "    return res\n",
    "res=LatLonColumns()\n",
    "latitude=list(map(lambda x : x[0], res))\n",
    "longitude=list(map(lambda x : x[1], res))"
   ]
  },
  {
   "cell_type": "code",
   "execution_count": 24,
   "metadata": {},
   "outputs": [],
   "source": [
    "df['latitude']=latitude\n",
    "df['longitude']=longitude"
   ]
  },
  {
   "cell_type": "markdown",
   "metadata": {},
   "source": [
    "With latitude and longtitude information, we do not need UTM information any more."
   ]
  },
  {
   "cell_type": "code",
   "execution_count": 26,
   "metadata": {},
   "outputs": [],
   "source": [
    "df=df.drop(['UTM_East', 'UTM_North'], axis=1)"
   ]
  }
 ],
 "metadata": {
  "kernelspec": {
   "display_name": "Python 3",
   "language": "python",
   "name": "python3"
  },
  "language_info": {
   "codemirror_mode": {
    "name": "ipython",
    "version": 3
   },
   "file_extension": ".py",
   "mimetype": "text/x-python",
   "name": "python",
   "nbconvert_exporter": "python",
   "pygments_lexer": "ipython3",
   "version": "3.7.3"
  }
 },
 "nbformat": 4,
 "nbformat_minor": 2
}

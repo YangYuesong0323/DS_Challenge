{
 "cells": [
  {
   "cell_type": "markdown",
   "metadata": {},
   "source": [
    "# 1. Data Preperation, Preprocessing and Cleaning"
   ]
  },
  {
   "cell_type": "markdown",
   "metadata": {},
   "source": [
    "## 1.1 Import Libraries and Load Datasets"
   ]
  },
  {
   "cell_type": "code",
   "execution_count": 40,
   "metadata": {},
   "outputs": [],
   "source": [
    "import pandas as pd\n",
    "import numpy as np\n",
    "import math\n",
    "import utm\n",
    "import requests"
   ]
  },
  {
   "cell_type": "code",
   "execution_count": 41,
   "metadata": {},
   "outputs": [],
   "source": [
    "df = pd.read_excel(\"Households_Data.xlsx\", sheet_name='Hogares')"
   ]
  },
  {
   "cell_type": "code",
   "execution_count": 42,
   "metadata": {},
   "outputs": [],
   "source": [
    "dictionary = pd.read_excel(\"Households_Data.xlsx\", sheet_name='Dictionary')"
   ]
  },
  {
   "cell_type": "markdown",
   "metadata": {},
   "source": [
    "## 1.2 Identify Column Data Types"
   ]
  },
  {
   "cell_type": "markdown",
   "metadata": {},
   "source": [
    "Knowing the type of data in each column not only helps one understand the data better, but is also important to selecting the suitable machine learning algorithms later. In this section, we would like to take a closer look at the `dictionary` dataset, and identify which columns are categorical data and which are continuous data from its descriptions."
   ]
  },
  {
   "cell_type": "code",
   "execution_count": 43,
   "metadata": {
    "scrolled": false
   },
   "outputs": [
    {
     "data": {
      "text/html": [
       "<div>\n",
       "<style scoped>\n",
       "    .dataframe tbody tr th:only-of-type {\n",
       "        vertical-align: middle;\n",
       "    }\n",
       "\n",
       "    .dataframe tbody tr th {\n",
       "        vertical-align: top;\n",
       "    }\n",
       "\n",
       "    .dataframe thead th {\n",
       "        text-align: right;\n",
       "    }\n",
       "</style>\n",
       "<table border=\"1\" class=\"dataframe\">\n",
       "  <thead>\n",
       "    <tr style=\"text-align: right;\">\n",
       "      <th></th>\n",
       "      <th>Variable</th>\n",
       "      <th>Description</th>\n",
       "      <th>Used in Model?</th>\n",
       "    </tr>\n",
       "  </thead>\n",
       "  <tbody>\n",
       "    <tr>\n",
       "      <th>0</th>\n",
       "      <td>Hogar</td>\n",
       "      <td>ID of Household</td>\n",
       "      <td>NaN</td>\n",
       "    </tr>\n",
       "    <tr>\n",
       "      <th>1</th>\n",
       "      <td>EXCLUIR</td>\n",
       "      <td>Exclude from estimation</td>\n",
       "      <td>NaN</td>\n",
       "    </tr>\n",
       "    <tr>\n",
       "      <th>2</th>\n",
       "      <td>paraValidacion</td>\n",
       "      <td>sample for validation</td>\n",
       "      <td>NaN</td>\n",
       "    </tr>\n",
       "    <tr>\n",
       "      <th>3</th>\n",
       "      <td>Sector</td>\n",
       "      <td>Exogenous sector (7 sectors used for exogenous...</td>\n",
       "      <td>YES (Segmentation in Exogenous Zones Model)</td>\n",
       "    </tr>\n",
       "    <tr>\n",
       "      <th>4</th>\n",
       "      <td>DirCoordX</td>\n",
       "      <td>UTM coordinate X</td>\n",
       "      <td>NaN</td>\n",
       "    </tr>\n",
       "    <tr>\n",
       "      <th>5</th>\n",
       "      <td>DirCoordY</td>\n",
       "      <td>UTM coordinate Y</td>\n",
       "      <td>NaN</td>\n",
       "    </tr>\n",
       "    <tr>\n",
       "      <th>6</th>\n",
       "      <td>MontoArr</td>\n",
       "      <td>Monthly dwelling rent (Chilean Peso)</td>\n",
       "      <td>YES (Likelihood function)</td>\n",
       "    </tr>\n",
       "    <tr>\n",
       "      <th>7</th>\n",
       "      <td>IngresoHogar</td>\n",
       "      <td>Household income (Chilean Peso)</td>\n",
       "      <td>NaN</td>\n",
       "    </tr>\n",
       "    <tr>\n",
       "      <th>8</th>\n",
       "      <td>Factor</td>\n",
       "      <td>Expansion factor of household in survey</td>\n",
       "      <td>NaN</td>\n",
       "    </tr>\n",
       "    <tr>\n",
       "      <th>9</th>\n",
       "      <td>AnosEstudio</td>\n",
       "      <td>Years of formal Education of head of household</td>\n",
       "      <td>NaN</td>\n",
       "    </tr>\n",
       "    <tr>\n",
       "      <th>10</th>\n",
       "      <td>CLASE</td>\n",
       "      <td>1 : less than 12 years ; 2 : between 12 and 15...</td>\n",
       "      <td>YES (Likelihood function)</td>\n",
       "    </tr>\n",
       "    <tr>\n",
       "      <th>11</th>\n",
       "      <td>Sup_Prom_Constr_Hab_EOD</td>\n",
       "      <td>Average Built surface of residential units in ...</td>\n",
       "      <td>YES (DP function)</td>\n",
       "    </tr>\n",
       "    <tr>\n",
       "      <th>12</th>\n",
       "      <td>Calid_EOD_norm_inv</td>\n",
       "      <td>Average Construction Quality of residential un...</td>\n",
       "      <td>NaN</td>\n",
       "    </tr>\n",
       "    <tr>\n",
       "      <th>13</th>\n",
       "      <td>DensConstr_EOD</td>\n",
       "      <td>Built density in zone (built surface divided b...</td>\n",
       "      <td>YES (Segmentation function in Latent class mod...</td>\n",
       "    </tr>\n",
       "    <tr>\n",
       "      <th>14</th>\n",
       "      <td>Dist_est_Metro_MC_KM</td>\n",
       "      <td>Distance to nearest subway station (km)</td>\n",
       "      <td>YES (DP function)</td>\n",
       "    </tr>\n",
       "    <tr>\n",
       "      <th>15</th>\n",
       "      <td>Dist_salida_Autop_MC_KM</td>\n",
       "      <td>Distance to nearest highway exit (km)</td>\n",
       "      <td>YES (DP function)</td>\n",
       "    </tr>\n",
       "    <tr>\n",
       "      <th>16</th>\n",
       "      <td>Tiempo_Com_Stgo</td>\n",
       "      <td>travel time to CBD (min)</td>\n",
       "      <td>YES (DP function)</td>\n",
       "    </tr>\n",
       "    <tr>\n",
       "      <th>17</th>\n",
       "      <td>Ingreso_Promedio_Zona_MM</td>\n",
       "      <td>Average zonal income (Million Chilean Peso)</td>\n",
       "      <td>YES (Segmentation function in Latent class mod...</td>\n",
       "    </tr>\n",
       "    <tr>\n",
       "      <th>18</th>\n",
       "      <td>Acc_Comercio_tpte_pub</td>\n",
       "      <td>Accesibility to Commerce in transit</td>\n",
       "      <td>YES (DP function)</td>\n",
       "    </tr>\n",
       "    <tr>\n",
       "      <th>19</th>\n",
       "      <td>Acc_Educacion_tpte_pub</td>\n",
       "      <td>Accesibility to Education in transit</td>\n",
       "      <td>NaN</td>\n",
       "    </tr>\n",
       "    <tr>\n",
       "      <th>20</th>\n",
       "      <td>Acc_Habitacion_tpte_pub</td>\n",
       "      <td>Accesibility to habitational in transit</td>\n",
       "      <td>NaN</td>\n",
       "    </tr>\n",
       "    <tr>\n",
       "      <th>21</th>\n",
       "      <td>Acc_Industria_tpte_pub</td>\n",
       "      <td>Accesibility to Industry in transit</td>\n",
       "      <td>YES (DP function)</td>\n",
       "    </tr>\n",
       "    <tr>\n",
       "      <th>22</th>\n",
       "      <td>Acc_Servicios_tpte_pub</td>\n",
       "      <td>Accesibility to Services in transit</td>\n",
       "      <td>NaN</td>\n",
       "    </tr>\n",
       "    <tr>\n",
       "      <th>23</th>\n",
       "      <td>Acc_Comercio_auto</td>\n",
       "      <td>Accesibility to Commerce in car</td>\n",
       "      <td>NaN</td>\n",
       "    </tr>\n",
       "    <tr>\n",
       "      <th>24</th>\n",
       "      <td>Acc_Educacion_auto</td>\n",
       "      <td>Accesibility to Education in car</td>\n",
       "      <td>NaN</td>\n",
       "    </tr>\n",
       "    <tr>\n",
       "      <th>25</th>\n",
       "      <td>Acc_Habitacion_auto</td>\n",
       "      <td>Accesibility to habitational in car</td>\n",
       "      <td>NaN</td>\n",
       "    </tr>\n",
       "    <tr>\n",
       "      <th>26</th>\n",
       "      <td>Acc_Industria_auto</td>\n",
       "      <td>Accesibility to Industry in car</td>\n",
       "      <td>NaN</td>\n",
       "    </tr>\n",
       "    <tr>\n",
       "      <th>27</th>\n",
       "      <td>Acc_Servicios_auto</td>\n",
       "      <td>Accesibility to Services in car</td>\n",
       "      <td>NaN</td>\n",
       "    </tr>\n",
       "    <tr>\n",
       "      <th>28</th>\n",
       "      <td>CLUSTER7</td>\n",
       "      <td>Cluster clasification (7 clusters)</td>\n",
       "      <td>YES (Segmentation in 7 cluster model)</td>\n",
       "    </tr>\n",
       "    <tr>\n",
       "      <th>29</th>\n",
       "      <td>CLUSTER2</td>\n",
       "      <td>Cluster clasification (2 clusters)</td>\n",
       "      <td>YES (Segmentation in 2 cluster model)</td>\n",
       "    </tr>\n",
       "  </tbody>\n",
       "</table>\n",
       "</div>"
      ],
      "text/plain": [
       "                    Variable  \\\n",
       "0                      Hogar   \n",
       "1                    EXCLUIR   \n",
       "2             paraValidacion   \n",
       "3                     Sector   \n",
       "4                  DirCoordX   \n",
       "5                  DirCoordY   \n",
       "6                   MontoArr   \n",
       "7               IngresoHogar   \n",
       "8                     Factor   \n",
       "9                AnosEstudio   \n",
       "10                     CLASE   \n",
       "11   Sup_Prom_Constr_Hab_EOD   \n",
       "12        Calid_EOD_norm_inv   \n",
       "13            DensConstr_EOD   \n",
       "14      Dist_est_Metro_MC_KM   \n",
       "15   Dist_salida_Autop_MC_KM   \n",
       "16           Tiempo_Com_Stgo   \n",
       "17  Ingreso_Promedio_Zona_MM   \n",
       "18     Acc_Comercio_tpte_pub   \n",
       "19    Acc_Educacion_tpte_pub   \n",
       "20   Acc_Habitacion_tpte_pub   \n",
       "21    Acc_Industria_tpte_pub   \n",
       "22    Acc_Servicios_tpte_pub   \n",
       "23         Acc_Comercio_auto   \n",
       "24        Acc_Educacion_auto   \n",
       "25       Acc_Habitacion_auto   \n",
       "26        Acc_Industria_auto   \n",
       "27        Acc_Servicios_auto   \n",
       "28                  CLUSTER7   \n",
       "29                  CLUSTER2   \n",
       "\n",
       "                                          Description  \\\n",
       "0                                     ID of Household   \n",
       "1                             Exclude from estimation   \n",
       "2                               sample for validation   \n",
       "3   Exogenous sector (7 sectors used for exogenous...   \n",
       "4                                    UTM coordinate X   \n",
       "5                                    UTM coordinate Y   \n",
       "6                Monthly dwelling rent (Chilean Peso)   \n",
       "7                     Household income (Chilean Peso)   \n",
       "8             Expansion factor of household in survey   \n",
       "9      Years of formal Education of head of household   \n",
       "10  1 : less than 12 years ; 2 : between 12 and 15...   \n",
       "11  Average Built surface of residential units in ...   \n",
       "12  Average Construction Quality of residential un...   \n",
       "13  Built density in zone (built surface divided b...   \n",
       "14            Distance to nearest subway station (km)   \n",
       "15              Distance to nearest highway exit (km)   \n",
       "16                           travel time to CBD (min)   \n",
       "17        Average zonal income (Million Chilean Peso)   \n",
       "18                Accesibility to Commerce in transit   \n",
       "19               Accesibility to Education in transit   \n",
       "20            Accesibility to habitational in transit   \n",
       "21                Accesibility to Industry in transit   \n",
       "22                Accesibility to Services in transit   \n",
       "23                    Accesibility to Commerce in car   \n",
       "24                   Accesibility to Education in car   \n",
       "25                Accesibility to habitational in car   \n",
       "26                    Accesibility to Industry in car   \n",
       "27                    Accesibility to Services in car   \n",
       "28                 Cluster clasification (7 clusters)   \n",
       "29                 Cluster clasification (2 clusters)   \n",
       "\n",
       "                                       Used in Model?  \n",
       "0                                                 NaN  \n",
       "1                                                 NaN  \n",
       "2                                                 NaN  \n",
       "3         YES (Segmentation in Exogenous Zones Model)  \n",
       "4                                                 NaN  \n",
       "5                                                 NaN  \n",
       "6                           YES (Likelihood function)  \n",
       "7                                                 NaN  \n",
       "8                                                 NaN  \n",
       "9                                                 NaN  \n",
       "10                          YES (Likelihood function)  \n",
       "11                                  YES (DP function)  \n",
       "12                                                NaN  \n",
       "13  YES (Segmentation function in Latent class mod...  \n",
       "14                                  YES (DP function)  \n",
       "15                                  YES (DP function)  \n",
       "16                                  YES (DP function)  \n",
       "17  YES (Segmentation function in Latent class mod...  \n",
       "18                                  YES (DP function)  \n",
       "19                                                NaN  \n",
       "20                                                NaN  \n",
       "21                                  YES (DP function)  \n",
       "22                                                NaN  \n",
       "23                                                NaN  \n",
       "24                                                NaN  \n",
       "25                                                NaN  \n",
       "26                                                NaN  \n",
       "27                                                NaN  \n",
       "28              YES (Segmentation in 7 cluster model)  \n",
       "29              YES (Segmentation in 2 cluster model)  "
      ]
     },
     "execution_count": 43,
     "metadata": {},
     "output_type": "execute_result"
    }
   ],
   "source": [
    "dictionary"
   ]
  },
  {
   "cell_type": "markdown",
   "metadata": {},
   "source": [
    "From the description column, we would make an informed guess about which columns are categorical and which are continuous.\n",
    "<br>\n",
    "<br>\n",
    "Our guess is `{Hogar, EXCLUIR, paraValidacion, Sector, CLASE, CLUSTER7, CLUSTER2}` are categorical."
   ]
  },
  {
   "cell_type": "code",
   "execution_count": 44,
   "metadata": {},
   "outputs": [],
   "source": [
    "categorical_1=['Hogar', 'EXCLUIR', 'paraValidacion', \n",
    "               'Sector', 'CLASE', 'CLUSTER7', 'CLUSTER2']"
   ]
  },
  {
   "cell_type": "markdown",
   "metadata": {},
   "source": [
    "From the description of the dataset, it is not always easy to distinguish categorical features from continuous ones. Therefore, we decide to examine the unique values in the dataset.\n",
    "<br>\n",
    "<br>\n",
    "This is based on the idea that the number of unique values in a column would, in general (not always), indicates whether that column is of categorical data type or continuous data type. "
   ]
  },
  {
   "cell_type": "code",
   "execution_count": 45,
   "metadata": {},
   "outputs": [
    {
     "name": "stdout",
     "output_type": "stream",
     "text": [
      "Hogar has 18264 unique values\n",
      "EXCLUIR has 2 unique values\n",
      "paraValidacion has 2 unique values\n",
      "Sector has 7 unique values\n",
      "DirCoordX has 16940 unique values\n",
      "DirCoordY has 16930 unique values\n",
      "MontoArr has 4432 unique values\n",
      "IngresoHogar has 12905 unique values\n",
      "Factor has 6433 unique values\n",
      "AnosEstudio has 23 unique values\n",
      "CLASE has 4 unique values\n",
      "Sup_Prom_Constr_Hab_EOD has 452 unique values\n",
      "Calid_EOD_norm_inv has 7 unique values\n",
      "DensConstr_EOD has 421 unique values\n",
      "Dist_est_Metro_MC_KM has 16952 unique values\n",
      "Dist_salida_Autop_MC_KM has 16952 unique values\n",
      "Tiempo_Com_Stgo has 98 unique values\n",
      "Ingreso_Promedio_Zona_MM has 789 unique values\n",
      "Acc_Comercio_tpte_pub has 631 unique values\n",
      "Acc_Educacion_tpte_pub has 631 unique values\n",
      "Acc_Habitacion_tpte_pub has 631 unique values\n",
      "Acc_Industria_tpte_pub has 631 unique values\n",
      "Acc_Servicios_tpte_pub has 631 unique values\n",
      "Acc_Comercio_auto has 637 unique values\n",
      "Acc_Educacion_auto has 635 unique values\n",
      "Acc_Habitacion_auto has 637 unique values\n",
      "Acc_Industria_auto has 636 unique values\n",
      "Acc_Servicios_auto has 636 unique values\n",
      "CLUSTER7 has 7 unique values\n",
      "CLUSTER2 has 2 unique values\n"
     ]
    }
   ],
   "source": [
    "for c in df.columns:\n",
    "    print(c + \" has \" + str(df[c].nunique()) + \" unique values\")"
   ]
  },
  {
   "cell_type": "markdown",
   "metadata": {},
   "source": [
    "After observing the number of unique values in each column, we update our list of categorical features and it now includes: `{EXCLUIR, paraValidacion, Sector, CLASE, Calid_EOD_norm_inv, CLUSTER7, CLUSTER2}` are categorical."
   ]
  },
  {
   "cell_type": "code",
   "execution_count": 46,
   "metadata": {},
   "outputs": [],
   "source": [
    "categorical_2=['EXCLUIR', 'paraValidacion', 'Sector', 'CLASE', \n",
    "               'Calid_EOD_norm_inv', 'CLUSTER7', 'CLUSTER2']"
   ]
  },
  {
   "cell_type": "markdown",
   "metadata": {},
   "source": [
    "For columns that appear in both `categorical_1` and `categorical_2 lists`, we will take them as categorical data. We will take a closer look at the rest of the columns that only appear in one of the lists."
   ]
  },
  {
   "cell_type": "code",
   "execution_count": 47,
   "metadata": {},
   "outputs": [
    {
     "data": {
      "text/plain": [
       "{'Hogar'}"
      ]
     },
     "execution_count": 47,
     "metadata": {},
     "output_type": "execute_result"
    }
   ],
   "source": [
    "# in categorical_1 but not in categorical_2\n",
    "set(categorical_1)-set(categorical_2)"
   ]
  },
  {
   "cell_type": "markdown",
   "metadata": {},
   "source": [
    "`Hogar` is the housing ID which is by definition categorical but we will omit it because ID is just a serial number which will not add insight in the predictive analysis"
   ]
  },
  {
   "cell_type": "code",
   "execution_count": 48,
   "metadata": {},
   "outputs": [
    {
     "data": {
      "text/plain": [
       "{'Calid_EOD_norm_inv'}"
      ]
     },
     "execution_count": 48,
     "metadata": {},
     "output_type": "execute_result"
    }
   ],
   "source": [
    "# in categorical_2 but not in categorical_1\n",
    "set(categorical_2)-set(categorical_1)"
   ]
  },
  {
   "cell_type": "code",
   "execution_count": 49,
   "metadata": {},
   "outputs": [
    {
     "data": {
      "text/plain": [
       "[0.98, 1.0, 0.78, 0.93, 0.36, 0.55, 0.0]"
      ]
     },
     "execution_count": 49,
     "metadata": {},
     "output_type": "execute_result"
    }
   ],
   "source": [
    "df['Calid_EOD_norm_inv'].unique().tolist()"
   ]
  },
  {
   "cell_type": "markdown",
   "metadata": {},
   "source": [
    "It seems that `Calid_EOD_norm_inv` is continuous. Indeed, from the description it can be seen that Average Construction Quality should indeed be a continuous feature. Thus, we treat this column as continuous."
   ]
  },
  {
   "cell_type": "code",
   "execution_count": 50,
   "metadata": {},
   "outputs": [],
   "source": [
    "categorical = set(categorical_1 + categorical_2)\n",
    "categorical -= {'Hogar','Calid_EOD_norm_inv'}"
   ]
  },
  {
   "cell_type": "markdown",
   "metadata": {},
   "source": [
    "Thus, we reach the conclusion that the following columns are categorical:"
   ]
  },
  {
   "cell_type": "code",
   "execution_count": 51,
   "metadata": {},
   "outputs": [
    {
     "data": {
      "text/plain": [
       "{'CLASE', 'CLUSTER2', 'CLUSTER7', 'EXCLUIR', 'Sector', 'paraValidacion'}"
      ]
     },
     "execution_count": 51,
     "metadata": {},
     "output_type": "execute_result"
    }
   ],
   "source": [
    "categorical"
   ]
  },
  {
   "cell_type": "markdown",
   "metadata": {},
   "source": [
    "The rest of the columns are thus continuous"
   ]
  },
  {
   "cell_type": "markdown",
   "metadata": {},
   "source": [
    "## 1.3 Drop Irrelevant Columns"
   ]
  },
  {
   "cell_type": "markdown",
   "metadata": {},
   "source": [
    "After close inspection on the variable descriptions, we decided to remove columns which have limited contribution to the prediction task. We will remove:\n",
    "\n",
    "* `Hogar`, as it is just the ID of the data entries\n",
    "* `EXCLUIR`, as it seems to be used for an estimation which is not specified here, perhaps for some other study purposes.\n",
    "* `paraValidacion`, as it seems to be used for validation for some other studies, which makes this column have little relevance to our task."
   ]
  },
  {
   "cell_type": "code",
   "execution_count": 52,
   "metadata": {},
   "outputs": [],
   "source": [
    "df = df.drop(['Hogar','EXCLUIR', 'paraValidacion'], axis=1)"
   ]
  },
  {
   "cell_type": "markdown",
   "metadata": {},
   "source": [
    "## 1.4 Rename Columns"
   ]
  },
  {
   "cell_type": "markdown",
   "metadata": {},
   "source": [
    "The current column names are difficult to understand, so we rename them."
   ]
  },
  {
   "cell_type": "code",
   "execution_count": 53,
   "metadata": {},
   "outputs": [],
   "source": [
    "df = df.rename(columns={'Sector': 'exogenous_sector', \n",
    "                   'DirCoordX' : 'UTM_East',\n",
    "                   'DirCoordY' : 'UTM_North', \n",
    "                   'MontoArr' : 'monthly_rent',\n",
    "                   'IngresoHogar' : 'household_income', \n",
    "                   'Factor' : 'survey_factor',\n",
    "                   'AnosEstudio' : 'education_years', \n",
    "                   'CLASE' : 'type',\n",
    "                   'Sup_Prom_Constr_Hab_EOD': 'built_surface',\n",
    "                   'Calid_EOD_norm_inv' : 'construction_quality',\n",
    "                   'DensConstr_EOD' : 'build_density', \n",
    "                   'Dist_est_Metro_MC_KM' : 'subway_dis',\n",
    "                   'Dist_salida_Autop_MC_KM' : 'highway_dis', \n",
    "                   'Tiempo_Com_Stgo' : 'time_CBD',\n",
    "                   'Ingreso_Promedio_Zona_MM' : 'avg_zone_income',\n",
    "                   'Acc_Comercio_tpte_pub' : 'commerce_transit', \n",
    "                   'Acc_Educacion_tpte_pub' : 'eduction_transit',\n",
    "                   'Acc_Habitacion_tpte_pub' : 'habitational_transit', \n",
    "                   'Acc_Industria_tpte_pub' : 'industry_transit',\n",
    "                   'Acc_Servicios_tpte_pub' : 'service_transit',\n",
    "                   'Acc_Comercio_auto' : 'commerce_car',\n",
    "                   'Acc_Educacion_auto' : 'education_car',\n",
    "                   'Acc_Habitacion_auto' : 'education_car',\n",
    "                   'Acc_Habitacion_auto' : 'habitational_car',\n",
    "                   'Acc_Industria_auto' : 'industry_car',\n",
    "                   'Acc_Servicios_auto' : 'service_car',\n",
    "                   'CLUSTER7' : 'cluster_7',\n",
    "                   'CLUSTER2' : 'cluster_2'\n",
    "                  })"
   ]
  },
  {
   "cell_type": "markdown",
   "metadata": {},
   "source": [
    "Lastly, we need to update our categorical list."
   ]
  },
  {
   "cell_type": "code",
   "execution_count": 54,
   "metadata": {},
   "outputs": [
    {
     "name": "stdout",
     "output_type": "stream",
     "text": [
      "original : \n",
      "{'EXCLUIR', 'CLUSTER2', 'paraValidacion', 'CLUSTER7', 'Sector', 'CLASE'}\n",
      "updated : \n",
      "['type', 'cluster_2', 'cluster_7', 'exogenous_sector']\n"
     ]
    }
   ],
   "source": [
    "# update categorical list\n",
    "print(\"original : \")\n",
    "print(categorical)\n",
    "categorical = ['type', 'cluster_2', 'cluster_7', 'exogenous_sector']\n",
    "print(\"updated : \")\n",
    "print(categorical)"
   ]
  },
  {
   "cell_type": "markdown",
   "metadata": {},
   "source": [
    "## 1.5 Handle Missing Values\n",
    "Check if the dataset contains any missing value in its entries, and handle these missing values if they exist."
   ]
  },
  {
   "cell_type": "code",
   "execution_count": 55,
   "metadata": {},
   "outputs": [
    {
     "name": "stdout",
     "output_type": "stream",
     "text": [
      "column exogenous_sector has 0 null value\n",
      "column UTM_East has 0 null value\n",
      "column UTM_North has 0 null value\n",
      "column monthly_rent has 0 null value\n",
      "column household_income has 0 null value\n",
      "column survey_factor has 0 null value\n",
      "column education_years has 0 null value\n",
      "column type has 0 null value\n",
      "column built_surface has 0 null value\n",
      "column construction_quality has 0 null value\n",
      "column build_density has 0 null value\n",
      "column subway_dis has 0 null value\n",
      "column highway_dis has 0 null value\n",
      "column time_CBD has 0 null value\n",
      "column avg_zone_income has 0 null value\n",
      "column commerce_transit has 0 null value\n",
      "column eduction_transit has 0 null value\n",
      "column habitational_transit has 0 null value\n",
      "column industry_transit has 0 null value\n",
      "column service_transit has 0 null value\n",
      "column commerce_car has 0 null value\n",
      "column education_car has 0 null value\n",
      "column habitational_car has 0 null value\n",
      "column industry_car has 0 null value\n",
      "column service_car has 0 null value\n",
      "column cluster_7 has 0 null value\n",
      "column cluster_2 has 0 null value\n"
     ]
    }
   ],
   "source": [
    "# check for NaNs\n",
    "for column in df.columns:\n",
    "    print(\"column {} has {} null value\".format(column, df[column].isnull().sum().sum()))"
   ]
  },
  {
   "cell_type": "markdown",
   "metadata": {},
   "source": [
    "It can be seen from the result above that this dataset does not have any missing value. Thus no missing data handling/imputation is needed."
   ]
  },
  {
   "cell_type": "markdown",
   "metadata": {},
   "source": [
    "## 1.6 Standardize Currency Units\n",
    "`avg_zone_income` is in Million Chilean Peso. However, `monthly_rent` and `household_income` are in Chilean Peso. We would like to standardize `avg_zone_income` to Chilean Peso."
   ]
  },
  {
   "cell_type": "code",
   "execution_count": 56,
   "metadata": {},
   "outputs": [],
   "source": [
    "df['avg_zone_income'] =  df['avg_zone_income'] * 1000000"
   ]
  },
  {
   "cell_type": "markdown",
   "metadata": {},
   "source": [
    "## 1.7 Utilize Coordinate Data\n",
    "The coordinate data given in the data set is in UTM format. It is of little help to us because it only pinpoints the geographical location of each data point. We have to quantify it into some more useful information such that it can be used as a feature into any machine learning algorithm.\n",
    "\n",
    "For example, one way is to obtain the distance between a location and the city center.\n",
    "\n",
    "In order to obtain the distance, we resort to Google Maps API. Unfortunately, Google Maps API does not support UTM format. Thus, we need to convert UTM into latitude and longitude information. Luckily, Python has a package named `utm` that helps us do the job (https://github.com/Turbo87/utm)."
   ]
  },
  {
   "cell_type": "markdown",
   "metadata": {},
   "source": [
    "### 1.7.1 Convert UTM Format To Lat/Lon Format"
   ]
  },
  {
   "cell_type": "markdown",
   "metadata": {},
   "source": [
    "We define a function to convert UTM format to Lat/Lon format.\n",
    "\n",
    "Since the dataset does not contain zone and latitude band information for Santiage, we read up online (https://www.gps-latitude-longitude.com/gps-coordinates-of-santiago-de-chile) and learn that the zone is 19 and latitude band is 'H'."
   ]
  },
  {
   "cell_type": "code",
   "execution_count": 57,
   "metadata": {},
   "outputs": [],
   "source": [
    "def getLatLon(east, north):\n",
    "    return utm.to_latlon(east, north, 19, 'H')"
   ]
  },
  {
   "cell_type": "markdown",
   "metadata": {},
   "source": [
    "Again, we define a function to extract lat/lon information and store this information into two new columns, `latitude` and `longitude`."
   ]
  },
  {
   "cell_type": "code",
   "execution_count": 58,
   "metadata": {},
   "outputs": [],
   "source": [
    "def LatLonColumns():\n",
    "    res=[]\n",
    "    east=df.UTM_East.tolist()\n",
    "    north=df.UTM_North.tolist()\n",
    "    for i in range(len(east)):\n",
    "        res.append(getLatLon(east[i],north[i]))\n",
    "    return res"
   ]
  },
  {
   "cell_type": "code",
   "execution_count": 59,
   "metadata": {},
   "outputs": [],
   "source": [
    "res = LatLonColumns()\n",
    "latitude = list(map(lambda x : x[0], res))\n",
    "longitude = list(map(lambda x : x[1], res))"
   ]
  },
  {
   "cell_type": "code",
   "execution_count": 60,
   "metadata": {},
   "outputs": [],
   "source": [
    "df['latitude'] = latitude\n",
    "df['longitude'] = longitude"
   ]
  },
  {
   "cell_type": "markdown",
   "metadata": {},
   "source": [
    "With latitude and longtitude information, we do not need UTM information any more."
   ]
  },
  {
   "cell_type": "code",
   "execution_count": 61,
   "metadata": {},
   "outputs": [],
   "source": [
    "df = df.drop(['UTM_East', 'UTM_North'], axis = 1)"
   ]
  },
  {
   "cell_type": "markdown",
   "metadata": {},
   "source": [
    "### 1.7.2 Obtain Distance to City Center with Google Maps API"
   ]
  },
  {
   "cell_type": "markdown",
   "metadata": {},
   "source": [
    "In order to get the latitude and longitude information of the city center, we search for Santiago, Chile on Google Maps (https://www.google.dk/maps/place/Santiago,+Santiago+Metropolitan+Region,+Chile/@-33.4724228,-70.7699155,11z/data=!3m1!4b1!4m13!1m7!3m6!1s0x9662c5410425af2f:0x8475d53c400f0931!2sSantiago,+Santiago+Metropolitan+Region,+Chile!3b1!8m2!3d-33.4488897!4d-70.6692655!3m4!1s0x9662c5410425af2f:0x8475d53c400f0931!8m2!3d-33.4488897!4d-70.6692655) and use the coordinates of the search result as the location of the city center. Its latitude is -33.446896, and longitude is -70.673124."
   ]
  },
  {
   "cell_type": "markdown",
   "metadata": {},
   "source": [
    "Next, our group uses Google Maps API to obtain: \n",
    "1. Distance between each housing to the city center, by driving, and \n",
    "2. Time taken to do so"
   ]
  },
  {
   "cell_type": "code",
   "execution_count": 62,
   "metadata": {},
   "outputs": [],
   "source": [
    "# Google map api key\n",
    "APIKey=\"your api here\""
   ]
  },
  {
   "cell_type": "markdown",
   "metadata": {},
   "source": [
    "We define a function which takes in latitude and longitude of a place and returns the distance and duration to travel to city center of Santiago by car."
   ]
  },
  {
   "cell_type": "code",
   "execution_count": 63,
   "metadata": {},
   "outputs": [],
   "source": [
    "def getDisDur(lat,lon):\n",
    "    response = requests.get('https://maps.googleapis.com/maps/api/distancematrix/json',\n",
    "                            params={'units': 'metric',\n",
    "                                    'origins' : str(lat) + ',' + str(lon),\n",
    "                                    'destinations' : '-33.446896,-70.673124',\n",
    "                                    'key' : APIKey})\n",
    "    data=response.json()['rows'][0]['elements'][0]\n",
    "    distance=data['distance']['value']\n",
    "    duration=data['duration']['value']\n",
    "    return (distance, duration)"
   ]
  },
  {
   "cell_type": "markdown",
   "metadata": {},
   "source": [
    "The function below runs API calls thousands of time, we store the data requested into dataframe. As such, the function below only needs to be run once."
   ]
  },
  {
   "cell_type": "code",
   "execution_count": 64,
   "metadata": {},
   "outputs": [],
   "source": [
    "# def DisDurCol():\n",
    "#     latitude=df.latitude.tolist()\n",
    "#     longitude=df.longitude.tolist()\n",
    "#     res=[]\n",
    "#     for i in range(len(latitude)):\n",
    "#         res.append(getDisDur(latitude[i],longitude[i]))\n",
    "#         if i % 1000 == 0:\n",
    "#             print(i)\n",
    "#     return res\n",
    "# res=DisDurCol()"
   ]
  },
  {
   "cell_type": "markdown",
   "metadata": {},
   "source": [
    "We extract distance and time taken data and store in corresponding columns."
   ]
  },
  {
   "cell_type": "code",
   "execution_count": 65,
   "metadata": {},
   "outputs": [],
   "source": [
    "# df['Distance_CityCenter']=list(map(lambda x : x[0], res))\n",
    "# df['Time_taken']=list(map(lambda x : x[1], res))"
   ]
  },
  {
   "cell_type": "markdown",
   "metadata": {},
   "source": [
    "Export the cleaned dataset into csv. Next time, we will just load this csv file."
   ]
  },
  {
   "cell_type": "code",
   "execution_count": 66,
   "metadata": {},
   "outputs": [],
   "source": [
    "# df.to_csv(\"cleaned_data.csv\")"
   ]
  },
  {
   "cell_type": "markdown",
   "metadata": {},
   "source": [
    "### 1.7.3 Test to Load csv"
   ]
  },
  {
   "cell_type": "code",
   "execution_count": 67,
   "metadata": {},
   "outputs": [],
   "source": [
    "df_test=pd.read_csv(\"cleaned_data.csv\", index_col = 0)"
   ]
  },
  {
   "cell_type": "code",
   "execution_count": 68,
   "metadata": {},
   "outputs": [
    {
     "data": {
      "text/html": [
       "<div>\n",
       "<style scoped>\n",
       "    .dataframe tbody tr th:only-of-type {\n",
       "        vertical-align: middle;\n",
       "    }\n",
       "\n",
       "    .dataframe tbody tr th {\n",
       "        vertical-align: top;\n",
       "    }\n",
       "\n",
       "    .dataframe thead th {\n",
       "        text-align: right;\n",
       "    }\n",
       "</style>\n",
       "<table border=\"1\" class=\"dataframe\">\n",
       "  <thead>\n",
       "    <tr style=\"text-align: right;\">\n",
       "      <th></th>\n",
       "      <th>ID</th>\n",
       "      <th>exogenous_sector</th>\n",
       "      <th>monthly_rent</th>\n",
       "      <th>household_income</th>\n",
       "      <th>survey_factor</th>\n",
       "      <th>education_years</th>\n",
       "      <th>type</th>\n",
       "      <th>built_surface</th>\n",
       "      <th>construction_quality</th>\n",
       "      <th>build_density</th>\n",
       "      <th>...</th>\n",
       "      <th>education_car</th>\n",
       "      <th>habitational_car</th>\n",
       "      <th>industry_car</th>\n",
       "      <th>service_car</th>\n",
       "      <th>cluster_7</th>\n",
       "      <th>cluster_2</th>\n",
       "      <th>latitude</th>\n",
       "      <th>longitude</th>\n",
       "      <th>Distance_CityCenter</th>\n",
       "      <th>Time_taken</th>\n",
       "    </tr>\n",
       "  </thead>\n",
       "  <tbody>\n",
       "    <tr>\n",
       "      <th>0</th>\n",
       "      <td>100010</td>\n",
       "      <td>7</td>\n",
       "      <td>100000</td>\n",
       "      <td>450845</td>\n",
       "      <td>136.393738</td>\n",
       "      <td>11</td>\n",
       "      <td>1</td>\n",
       "      <td>53.8</td>\n",
       "      <td>0.98</td>\n",
       "      <td>0.059</td>\n",
       "      <td>...</td>\n",
       "      <td>1781.81</td>\n",
       "      <td>30505.65</td>\n",
       "      <td>2853.19</td>\n",
       "      <td>3058.03</td>\n",
       "      <td>3</td>\n",
       "      <td>1</td>\n",
       "      <td>-33.729444</td>\n",
       "      <td>-70.779035</td>\n",
       "      <td>38682</td>\n",
       "      <td>2415</td>\n",
       "    </tr>\n",
       "    <tr>\n",
       "      <th>1</th>\n",
       "      <td>100020</td>\n",
       "      <td>7</td>\n",
       "      <td>120000</td>\n",
       "      <td>1019369</td>\n",
       "      <td>73.843597</td>\n",
       "      <td>11</td>\n",
       "      <td>1</td>\n",
       "      <td>59.6</td>\n",
       "      <td>0.98</td>\n",
       "      <td>0.033</td>\n",
       "      <td>...</td>\n",
       "      <td>1781.81</td>\n",
       "      <td>30505.65</td>\n",
       "      <td>2853.19</td>\n",
       "      <td>3058.03</td>\n",
       "      <td>3</td>\n",
       "      <td>1</td>\n",
       "      <td>-33.737278</td>\n",
       "      <td>-70.744340</td>\n",
       "      <td>35583</td>\n",
       "      <td>2056</td>\n",
       "    </tr>\n",
       "    <tr>\n",
       "      <th>2</th>\n",
       "      <td>100030</td>\n",
       "      <td>7</td>\n",
       "      <td>70000</td>\n",
       "      <td>80000</td>\n",
       "      <td>180.722809</td>\n",
       "      <td>10</td>\n",
       "      <td>1</td>\n",
       "      <td>59.5</td>\n",
       "      <td>0.98</td>\n",
       "      <td>0.004</td>\n",
       "      <td>...</td>\n",
       "      <td>1781.81</td>\n",
       "      <td>30505.65</td>\n",
       "      <td>2853.19</td>\n",
       "      <td>3058.03</td>\n",
       "      <td>3</td>\n",
       "      <td>1</td>\n",
       "      <td>-33.805994</td>\n",
       "      <td>-70.859656</td>\n",
       "      <td>53214</td>\n",
       "      <td>3104</td>\n",
       "    </tr>\n",
       "    <tr>\n",
       "      <th>3</th>\n",
       "      <td>100041</td>\n",
       "      <td>7</td>\n",
       "      <td>80000</td>\n",
       "      <td>559259</td>\n",
       "      <td>150.379059</td>\n",
       "      <td>14</td>\n",
       "      <td>2</td>\n",
       "      <td>59.5</td>\n",
       "      <td>0.98</td>\n",
       "      <td>0.004</td>\n",
       "      <td>...</td>\n",
       "      <td>1781.81</td>\n",
       "      <td>30505.65</td>\n",
       "      <td>2853.19</td>\n",
       "      <td>3058.03</td>\n",
       "      <td>3</td>\n",
       "      <td>1</td>\n",
       "      <td>-33.805995</td>\n",
       "      <td>-70.859654</td>\n",
       "      <td>53214</td>\n",
       "      <td>3104</td>\n",
       "    </tr>\n",
       "    <tr>\n",
       "      <th>4</th>\n",
       "      <td>100052</td>\n",
       "      <td>7</td>\n",
       "      <td>117771</td>\n",
       "      <td>710309</td>\n",
       "      <td>122.001518</td>\n",
       "      <td>12</td>\n",
       "      <td>2</td>\n",
       "      <td>43.6</td>\n",
       "      <td>0.98</td>\n",
       "      <td>0.086</td>\n",
       "      <td>...</td>\n",
       "      <td>1781.81</td>\n",
       "      <td>30505.65</td>\n",
       "      <td>2853.19</td>\n",
       "      <td>3058.03</td>\n",
       "      <td>3</td>\n",
       "      <td>1</td>\n",
       "      <td>-33.722055</td>\n",
       "      <td>-70.743270</td>\n",
       "      <td>36504</td>\n",
       "      <td>2099</td>\n",
       "    </tr>\n",
       "  </tbody>\n",
       "</table>\n",
       "<p>5 rows × 30 columns</p>\n",
       "</div>"
      ],
      "text/plain": [
       "       ID  exogenous_sector  monthly_rent  household_income  survey_factor  \\\n",
       "0  100010                 7        100000            450845     136.393738   \n",
       "1  100020                 7        120000           1019369      73.843597   \n",
       "2  100030                 7         70000             80000     180.722809   \n",
       "3  100041                 7         80000            559259     150.379059   \n",
       "4  100052                 7        117771            710309     122.001518   \n",
       "\n",
       "   education_years  type  built_surface  construction_quality  build_density  \\\n",
       "0               11     1           53.8                  0.98          0.059   \n",
       "1               11     1           59.6                  0.98          0.033   \n",
       "2               10     1           59.5                  0.98          0.004   \n",
       "3               14     2           59.5                  0.98          0.004   \n",
       "4               12     2           43.6                  0.98          0.086   \n",
       "\n",
       "   ...  education_car  habitational_car  industry_car  service_car  cluster_7  \\\n",
       "0  ...        1781.81          30505.65       2853.19      3058.03          3   \n",
       "1  ...        1781.81          30505.65       2853.19      3058.03          3   \n",
       "2  ...        1781.81          30505.65       2853.19      3058.03          3   \n",
       "3  ...        1781.81          30505.65       2853.19      3058.03          3   \n",
       "4  ...        1781.81          30505.65       2853.19      3058.03          3   \n",
       "\n",
       "   cluster_2   latitude  longitude  Distance_CityCenter  Time_taken  \n",
       "0          1 -33.729444 -70.779035                38682        2415  \n",
       "1          1 -33.737278 -70.744340                35583        2056  \n",
       "2          1 -33.805994 -70.859656                53214        3104  \n",
       "3          1 -33.805995 -70.859654                53214        3104  \n",
       "4          1 -33.722055 -70.743270                36504        2099  \n",
       "\n",
       "[5 rows x 30 columns]"
      ]
     },
     "execution_count": 68,
     "metadata": {},
     "output_type": "execute_result"
    }
   ],
   "source": [
    "df_test.head()"
   ]
  },
  {
   "cell_type": "markdown",
   "metadata": {},
   "source": [
    "# 2. Exploratary Data Analysis (EDA)"
   ]
  },
  {
   "cell_type": "markdown",
   "metadata": {},
   "source": [
    "## 2.1 Summary Statistics"
   ]
  },
  {
   "cell_type": "code",
   "execution_count": 69,
   "metadata": {},
   "outputs": [
    {
     "data": {
      "text/html": [
       "<div>\n",
       "<style scoped>\n",
       "    .dataframe tbody tr th:only-of-type {\n",
       "        vertical-align: middle;\n",
       "    }\n",
       "\n",
       "    .dataframe tbody tr th {\n",
       "        vertical-align: top;\n",
       "    }\n",
       "\n",
       "    .dataframe thead th {\n",
       "        text-align: right;\n",
       "    }\n",
       "</style>\n",
       "<table border=\"1\" class=\"dataframe\">\n",
       "  <thead>\n",
       "    <tr style=\"text-align: right;\">\n",
       "      <th></th>\n",
       "      <th>ID</th>\n",
       "      <th>exogenous_sector</th>\n",
       "      <th>monthly_rent</th>\n",
       "      <th>household_income</th>\n",
       "      <th>survey_factor</th>\n",
       "      <th>education_years</th>\n",
       "      <th>type</th>\n",
       "      <th>built_surface</th>\n",
       "      <th>construction_quality</th>\n",
       "      <th>build_density</th>\n",
       "      <th>...</th>\n",
       "      <th>education_car</th>\n",
       "      <th>habitational_car</th>\n",
       "      <th>industry_car</th>\n",
       "      <th>service_car</th>\n",
       "      <th>cluster_7</th>\n",
       "      <th>cluster_2</th>\n",
       "      <th>latitude</th>\n",
       "      <th>longitude</th>\n",
       "      <th>Distance_CityCenter</th>\n",
       "      <th>Time_taken</th>\n",
       "    </tr>\n",
       "  </thead>\n",
       "  <tbody>\n",
       "    <tr>\n",
       "      <th>count</th>\n",
       "      <td>18264.000000</td>\n",
       "      <td>18264.000000</td>\n",
       "      <td>1.826400e+04</td>\n",
       "      <td>1.826400e+04</td>\n",
       "      <td>18264.000000</td>\n",
       "      <td>18264.000000</td>\n",
       "      <td>18264.000000</td>\n",
       "      <td>18264.000000</td>\n",
       "      <td>18264.000000</td>\n",
       "      <td>18264.000000</td>\n",
       "      <td>...</td>\n",
       "      <td>18264.000000</td>\n",
       "      <td>18264.000000</td>\n",
       "      <td>18264.000000</td>\n",
       "      <td>18264.000000</td>\n",
       "      <td>18264.000000</td>\n",
       "      <td>18264.000000</td>\n",
       "      <td>18264.000000</td>\n",
       "      <td>18264.000000</td>\n",
       "      <td>18264.000000</td>\n",
       "      <td>18264.000000</td>\n",
       "    </tr>\n",
       "    <tr>\n",
       "      <th>mean</th>\n",
       "      <td>193030.230672</td>\n",
       "      <td>3.821288</td>\n",
       "      <td>1.915436e+05</td>\n",
       "      <td>6.882743e+05</td>\n",
       "      <td>112.314389</td>\n",
       "      <td>9.776555</td>\n",
       "      <td>-0.321124</td>\n",
       "      <td>50.352858</td>\n",
       "      <td>0.640918</td>\n",
       "      <td>0.383019</td>\n",
       "      <td>...</td>\n",
       "      <td>3389.102833</td>\n",
       "      <td>58147.204716</td>\n",
       "      <td>5073.627695</td>\n",
       "      <td>6307.223734</td>\n",
       "      <td>3.899365</td>\n",
       "      <td>1.152541</td>\n",
       "      <td>-33.495396</td>\n",
       "      <td>-70.673004</td>\n",
       "      <td>18280.069536</td>\n",
       "      <td>1483.320905</td>\n",
       "    </tr>\n",
       "    <tr>\n",
       "      <th>std</th>\n",
       "      <td>56198.257546</td>\n",
       "      <td>1.947325</td>\n",
       "      <td>1.642392e+05</td>\n",
       "      <td>7.287777e+05</td>\n",
       "      <td>74.540944</td>\n",
       "      <td>16.400822</td>\n",
       "      <td>14.556300</td>\n",
       "      <td>23.019691</td>\n",
       "      <td>0.353851</td>\n",
       "      <td>0.461823</td>\n",
       "      <td>...</td>\n",
       "      <td>857.208576</td>\n",
       "      <td>14062.171453</td>\n",
       "      <td>1298.025692</td>\n",
       "      <td>1930.571354</td>\n",
       "      <td>1.538586</td>\n",
       "      <td>0.359554</td>\n",
       "      <td>0.096568</td>\n",
       "      <td>0.110020</td>\n",
       "      <td>11879.120285</td>\n",
       "      <td>581.581882</td>\n",
       "    </tr>\n",
       "    <tr>\n",
       "      <th>min</th>\n",
       "      <td>100010.000000</td>\n",
       "      <td>1.000000</td>\n",
       "      <td>1.000000e+04</td>\n",
       "      <td>0.000000e+00</td>\n",
       "      <td>5.151379</td>\n",
       "      <td>-99.000000</td>\n",
       "      <td>-99.000000</td>\n",
       "      <td>0.000000</td>\n",
       "      <td>0.000000</td>\n",
       "      <td>0.000000</td>\n",
       "      <td>...</td>\n",
       "      <td>-99.000000</td>\n",
       "      <td>-99.000000</td>\n",
       "      <td>-99.000000</td>\n",
       "      <td>-99.000000</td>\n",
       "      <td>1.000000</td>\n",
       "      <td>1.000000</td>\n",
       "      <td>-33.810955</td>\n",
       "      <td>-71.321708</td>\n",
       "      <td>200.000000</td>\n",
       "      <td>48.000000</td>\n",
       "    </tr>\n",
       "    <tr>\n",
       "      <th>25%</th>\n",
       "      <td>145647.750000</td>\n",
       "      <td>2.000000</td>\n",
       "      <td>1.136745e+05</td>\n",
       "      <td>3.000000e+05</td>\n",
       "      <td>67.999544</td>\n",
       "      <td>10.000000</td>\n",
       "      <td>1.000000</td>\n",
       "      <td>39.100000</td>\n",
       "      <td>0.360000</td>\n",
       "      <td>0.177000</td>\n",
       "      <td>...</td>\n",
       "      <td>3062.360000</td>\n",
       "      <td>53163.070000</td>\n",
       "      <td>4508.790000</td>\n",
       "      <td>5091.160000</td>\n",
       "      <td>2.000000</td>\n",
       "      <td>1.000000</td>\n",
       "      <td>-33.563749</td>\n",
       "      <td>-70.728089</td>\n",
       "      <td>9865.000000</td>\n",
       "      <td>1093.000000</td>\n",
       "    </tr>\n",
       "    <tr>\n",
       "      <th>50%</th>\n",
       "      <td>192085.500000</td>\n",
       "      <td>4.000000</td>\n",
       "      <td>1.500000e+05</td>\n",
       "      <td>5.078265e+05</td>\n",
       "      <td>94.457756</td>\n",
       "      <td>12.000000</td>\n",
       "      <td>2.000000</td>\n",
       "      <td>45.800000</td>\n",
       "      <td>0.780000</td>\n",
       "      <td>0.256000</td>\n",
       "      <td>...</td>\n",
       "      <td>3538.740000</td>\n",
       "      <td>61218.910000</td>\n",
       "      <td>5267.610000</td>\n",
       "      <td>6452.625000</td>\n",
       "      <td>5.000000</td>\n",
       "      <td>1.000000</td>\n",
       "      <td>-33.488603</td>\n",
       "      <td>-70.657311</td>\n",
       "      <td>16539.500000</td>\n",
       "      <td>1400.000000</td>\n",
       "    </tr>\n",
       "    <tr>\n",
       "      <th>75%</th>\n",
       "      <td>237732.750000</td>\n",
       "      <td>6.000000</td>\n",
       "      <td>2.000000e+05</td>\n",
       "      <td>8.411012e+05</td>\n",
       "      <td>133.587433</td>\n",
       "      <td>14.000000</td>\n",
       "      <td>2.000000</td>\n",
       "      <td>58.000000</td>\n",
       "      <td>0.980000</td>\n",
       "      <td>0.363000</td>\n",
       "      <td>...</td>\n",
       "      <td>3989.947500</td>\n",
       "      <td>68388.830000</td>\n",
       "      <td>5980.780000</td>\n",
       "      <td>7699.100000</td>\n",
       "      <td>5.000000</td>\n",
       "      <td>1.000000</td>\n",
       "      <td>-33.430608</td>\n",
       "      <td>-70.596949</td>\n",
       "      <td>23773.000000</td>\n",
       "      <td>1803.000000</td>\n",
       "    </tr>\n",
       "    <tr>\n",
       "      <th>max</th>\n",
       "      <td>743823.000000</td>\n",
       "      <td>7.000000</td>\n",
       "      <td>5.000000e+06</td>\n",
       "      <td>1.480000e+07</td>\n",
       "      <td>927.142761</td>\n",
       "      <td>24.000000</td>\n",
       "      <td>3.000000</td>\n",
       "      <td>207.300000</td>\n",
       "      <td>1.000000</td>\n",
       "      <td>4.599000</td>\n",
       "      <td>...</td>\n",
       "      <td>4681.260000</td>\n",
       "      <td>75774.780000</td>\n",
       "      <td>7260.030000</td>\n",
       "      <td>10000.680000</td>\n",
       "      <td>7.000000</td>\n",
       "      <td>2.000000</td>\n",
       "      <td>-33.177505</td>\n",
       "      <td>-70.286672</td>\n",
       "      <td>100074.000000</td>\n",
       "      <td>5279.000000</td>\n",
       "    </tr>\n",
       "  </tbody>\n",
       "</table>\n",
       "<p>8 rows × 30 columns</p>\n",
       "</div>"
      ],
      "text/plain": [
       "                  ID  exogenous_sector  monthly_rent  household_income  \\\n",
       "count   18264.000000      18264.000000  1.826400e+04      1.826400e+04   \n",
       "mean   193030.230672          3.821288  1.915436e+05      6.882743e+05   \n",
       "std     56198.257546          1.947325  1.642392e+05      7.287777e+05   \n",
       "min    100010.000000          1.000000  1.000000e+04      0.000000e+00   \n",
       "25%    145647.750000          2.000000  1.136745e+05      3.000000e+05   \n",
       "50%    192085.500000          4.000000  1.500000e+05      5.078265e+05   \n",
       "75%    237732.750000          6.000000  2.000000e+05      8.411012e+05   \n",
       "max    743823.000000          7.000000  5.000000e+06      1.480000e+07   \n",
       "\n",
       "       survey_factor  education_years          type  built_surface  \\\n",
       "count   18264.000000     18264.000000  18264.000000   18264.000000   \n",
       "mean      112.314389         9.776555     -0.321124      50.352858   \n",
       "std        74.540944        16.400822     14.556300      23.019691   \n",
       "min         5.151379       -99.000000    -99.000000       0.000000   \n",
       "25%        67.999544        10.000000      1.000000      39.100000   \n",
       "50%        94.457756        12.000000      2.000000      45.800000   \n",
       "75%       133.587433        14.000000      2.000000      58.000000   \n",
       "max       927.142761        24.000000      3.000000     207.300000   \n",
       "\n",
       "       construction_quality  build_density  ...  education_car  \\\n",
       "count          18264.000000   18264.000000  ...   18264.000000   \n",
       "mean               0.640918       0.383019  ...    3389.102833   \n",
       "std                0.353851       0.461823  ...     857.208576   \n",
       "min                0.000000       0.000000  ...     -99.000000   \n",
       "25%                0.360000       0.177000  ...    3062.360000   \n",
       "50%                0.780000       0.256000  ...    3538.740000   \n",
       "75%                0.980000       0.363000  ...    3989.947500   \n",
       "max                1.000000       4.599000  ...    4681.260000   \n",
       "\n",
       "       habitational_car  industry_car   service_car     cluster_7  \\\n",
       "count      18264.000000  18264.000000  18264.000000  18264.000000   \n",
       "mean       58147.204716   5073.627695   6307.223734      3.899365   \n",
       "std        14062.171453   1298.025692   1930.571354      1.538586   \n",
       "min          -99.000000    -99.000000    -99.000000      1.000000   \n",
       "25%        53163.070000   4508.790000   5091.160000      2.000000   \n",
       "50%        61218.910000   5267.610000   6452.625000      5.000000   \n",
       "75%        68388.830000   5980.780000   7699.100000      5.000000   \n",
       "max        75774.780000   7260.030000  10000.680000      7.000000   \n",
       "\n",
       "          cluster_2      latitude     longitude  Distance_CityCenter  \\\n",
       "count  18264.000000  18264.000000  18264.000000         18264.000000   \n",
       "mean       1.152541    -33.495396    -70.673004         18280.069536   \n",
       "std        0.359554      0.096568      0.110020         11879.120285   \n",
       "min        1.000000    -33.810955    -71.321708           200.000000   \n",
       "25%        1.000000    -33.563749    -70.728089          9865.000000   \n",
       "50%        1.000000    -33.488603    -70.657311         16539.500000   \n",
       "75%        1.000000    -33.430608    -70.596949         23773.000000   \n",
       "max        2.000000    -33.177505    -70.286672        100074.000000   \n",
       "\n",
       "         Time_taken  \n",
       "count  18264.000000  \n",
       "mean    1483.320905  \n",
       "std      581.581882  \n",
       "min       48.000000  \n",
       "25%     1093.000000  \n",
       "50%     1400.000000  \n",
       "75%     1803.000000  \n",
       "max     5279.000000  \n",
       "\n",
       "[8 rows x 30 columns]"
      ]
     },
     "execution_count": 69,
     "metadata": {},
     "output_type": "execute_result"
    }
   ],
   "source": [
    "df_test.describe()"
   ]
  },
  {
   "cell_type": "markdown",
   "metadata": {},
   "source": [
    "# 3. Define functions for fitted model\n",
    "(Logistic Regression/KNN/Linear Regression)"
   ]
  },
  {
   "cell_type": "code",
   "execution_count": 1,
   "metadata": {},
   "outputs": [],
   "source": [
    "from sklearn.linear_model import LogisticRegression\n",
    "from sklearn.linear_model import LinearRegression\n",
    "from sklearn.neighbors import KNeighborsClassifier"
   ]
  },
  {
   "cell_type": "code",
   "execution_count": 2,
   "metadata": {},
   "outputs": [],
   "source": [
    "def logistic_reg_model(X_train, X_test, y_train):\n",
    "    \n",
    "    classifier = LogisticRegression()\n",
    "    classifier.fit(X_train,y_train)\n",
    "    y_pred1 = classifier.predict(X_test)\n",
    "    \n",
    "    return y_pred1"
   ]
  },
  {
   "cell_type": "code",
   "execution_count": 3,
   "metadata": {},
   "outputs": [],
   "source": [
    "def linear_regression(X_train, X_test, y_train):\n",
    "    \n",
    "    classifier = LinearRegression()\n",
    "    classifier.fit(X_train,y_train)\n",
    "    y_pred2 = classifier.predict(X_test)\n",
    "    \n",
    "    return y_pred2"
   ]
  },
  {
   "cell_type": "code",
   "execution_count": 4,
   "metadata": {},
   "outputs": [],
   "source": [
    "def knn_model(X_train, X_test, y_train, n):\n",
    "    \n",
    "    classifier = KNeighborsClassifier(n_neighbors = n)\n",
    "    classifier.fit(X_train,y_train)\n",
    "    y_pred3 = classifier.predict(X_test)\n",
    "    \n",
    "    return y_pred3"
   ]
  }
 ],
 "metadata": {
  "kernelspec": {
   "display_name": "Python 3",
   "language": "python",
   "name": "python3"
  },
  "language_info": {
   "codemirror_mode": {
    "name": "ipython",
    "version": 3
   },
   "file_extension": ".py",
   "mimetype": "text/x-python",
   "name": "python",
   "nbconvert_exporter": "python",
   "pygments_lexer": "ipython3",
   "version": "3.7.3"
  }
 },
 "nbformat": 4,
 "nbformat_minor": 2
}
